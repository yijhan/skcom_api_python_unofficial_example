{
 "cells": [
  {
   "cell_type": "markdown",
   "id": "b1c8dcbe-b125-48ac-8e22-60fee0ea907c",
   "metadata": {},
   "source": [
    "### GetFutureRight 範例"
   ]
  },
  {
   "cell_type": "code",
   "execution_count": 1,
   "id": "edf2574c-65d0-4ee8-b408-2bdff76d6b29",
   "metadata": {
    "tags": []
   },
   "outputs": [],
   "source": [
    "from comtypes.client import GetModule, GetEvents, CreateObject"
   ]
  },
  {
   "cell_type": "markdown",
   "id": "272c805a-78d7-46a9-bd1d-7da65fa459e4",
   "metadata": {},
   "source": [
    "### GetModule 將 API 打包成 python 可以呼叫的 package\n",
    "第一次執行時會在 comtypes.gen 建立 SKCOMLib wrap package, 之後可以不用再執行，若 API 元件升級時需要至comtypes.gen資料夾刪除 skcom 相關檔案，再重新執行 GetModule"
   ]
  },
  {
   "cell_type": "code",
   "execution_count": 2,
   "id": "5104aaa1-742a-4e1c-8c37-d69476adb72c",
   "metadata": {
    "tags": []
   },
   "outputs": [
    {
     "data": {
      "text/plain": [
       "<module 'comtypes.gen._75AAD71C_8F4F_4F1F_9AEE_3D41A8C9BA5E_0_1_0' from 'C:\\\\python\\\\WPy64-31131\\\\python-3.11.3.amd64\\\\Lib\\\\site-packages\\\\comtypes\\\\gen\\\\_75AAD71C_8F4F_4F1F_9AEE_3D41A8C9BA5E_0_1_0.py'>"
      ]
     },
     "execution_count": 2,
     "metadata": {},
     "output_type": "execute_result"
    }
   ],
   "source": [
    "GetModule(r\"C:\\skcom\\CapitalAPI_2.13.43\\x64\\SKCOM.dll\")"
   ]
  },
  {
   "cell_type": "code",
   "execution_count": 3,
   "id": "5c661124-e36a-4a46-bbc3-642d69826042",
   "metadata": {
    "tags": []
   },
   "outputs": [],
   "source": [
    "from comtypes.gen import SKCOMLib as sk\n",
    "import pythoncom\n",
    "import asyncio\n",
    "import pandas as pd"
   ]
  },
  {
   "cell_type": "markdown",
   "id": "9c725395-5d43-4d7a-8280-7c6b837e4c33",
   "metadata": {},
   "source": [
    "### 建立 COM 元件"
   ]
  },
  {
   "cell_type": "code",
   "execution_count": 4,
   "id": "1277041e-7774-4323-b835-d5230bf3260e",
   "metadata": {
    "tags": []
   },
   "outputs": [],
   "source": [
    "if 'skC' not in globals(): skC = CreateObject(sk.SKCenterLib, interface=sk.ISKCenterLib)\n",
    "if 'skR' not in globals(): skR = CreateObject(sk.SKReplyLib, interface=sk.ISKReplyLib)\n",
    "if 'skO' not in globals(): skO = CreateObject(sk.SKOrderLib, interface=sk.ISKOrderLib)"
   ]
  },
  {
   "cell_type": "markdown",
   "id": "5c11c58f-1bd3-4aae-83ac-e84fc8bcfca6",
   "metadata": {},
   "source": [
    "### 輸入身分證與密碼"
   ]
  },
  {
   "cell_type": "code",
   "execution_count": 14,
   "id": "e94f7083-6094-4a97-94fd-c2e0534d7ae0",
   "metadata": {
    "tags": []
   },
   "outputs": [],
   "source": [
    "ID = '你的身分證號'\n",
    "PW = '你的帳戶密碼'"
   ]
  },
  {
   "cell_type": "markdown",
   "id": "043b6607-3713-43c0-ad01-50aa0f369221",
   "metadata": {},
   "source": [
    "### 建立 skcom 事件類別"
   ]
  },
  {
   "cell_type": "code",
   "execution_count": 6,
   "id": "bb4c8768-1ab7-4d90-85e2-83a2a717e02a",
   "metadata": {
    "tags": []
   },
   "outputs": [
    {
     "name": "stdout",
     "output_type": "stream",
     "text": [
      "Setting event handeller done!!\n"
     ]
    }
   ],
   "source": [
    "# ReplyLib事件類別\n",
    "class skR_events:\n",
    "    def OnReplyMessage(self, bstrUserID, bstrMessage):\n",
    "        '''API 2.13.17 以上一定要返回 sConfirmCode=-1'''\n",
    "        sConfirmCode=-1\n",
    "        print('skR_OnReplyMessage', bstrMessage)\n",
    "        return sConfirmCode\n",
    "\n",
    "# OrderLib 事件類別\n",
    "class skO_events:\n",
    "    def __init__(self):\n",
    "        self.future_right = []\n",
    "        # 現貨帳號\n",
    "        self.accTS = ''\n",
    "        # 期貨帳號\n",
    "        self.accTF = ''\n",
    "    \n",
    "    def OnAccount(self, bstrLogInID, bstrAccountData):\n",
    "        '''取得使用者帳號資訊'''\n",
    "        strI = bstrAccountData.split(',')\n",
    "        # bstrAccountData: 0市場,1分公司,2分公司代號,3帳號,4身份證字號,5姓名\n",
    "        if strI[0] == 'TS': # 現貨帳號\n",
    "            self.accTS = strI[1]+strI[3]\n",
    "        elif strI[0] == 'TF': # 期貨帳號\n",
    "            self.accTF = strI[1]+strI[3]\n",
    "        # print('skO_OnAccount', bstrLogInID, bstrAccountData)\n",
    "        \n",
    "    def OnFutureRights(self, bstrData):\n",
    "        if '##' not in bstrData:\n",
    "            self.future_right.append(bstrData)\n",
    "        # print('skO_OnFutureRights', bstrData)\n",
    "        \n",
    "        \n",
    "# Event sink, 事件實體\n",
    "EventR = skR_events()\n",
    "EventO = skO_events()\n",
    "\n",
    "# 連結 com 元件與事件callback\n",
    "ConnR = GetEvents(skR, EventR)\n",
    "ConnO = GetEvents(skO, EventO) \n",
    "\n",
    "print('Setting event handeller done!!')"
   ]
  },
  {
   "cell_type": "markdown",
   "id": "d1f9e741-8218-47b9-8876-8c6e9a96095a",
   "metadata": {},
   "source": [
    "### 適用於 Jupyter lab 的 event loop, 持續監測 skcom api 的事件函數"
   ]
  },
  {
   "cell_type": "code",
   "execution_count": 7,
   "id": "b502ee98-f591-4035-88fe-ffa2ed28132d",
   "metadata": {
    "tags": []
   },
   "outputs": [
    {
     "name": "stdout",
     "output_type": "stream",
     "text": [
      "Event pumping ready!\n"
     ]
    }
   ],
   "source": [
    "# working functions, async coruntime to pump events\n",
    "async def pump_task():\n",
    "    while True:\n",
    "        pythoncom.PumpWaitingMessages()\n",
    "        await asyncio.sleep(0.1)\n",
    "        \n",
    "# get an event loop \n",
    "loop = asyncio.get_event_loop()\n",
    "pumping_loop = loop.create_task(pump_task())\n",
    "print('Event pumping ready!')"
   ]
  },
  {
   "cell_type": "markdown",
   "id": "5215bf23-494c-4446-a7f9-e2c465a54e0e",
   "metadata": {},
   "source": [
    "### 登入 與 OrderLib 初始化"
   ]
  },
  {
   "cell_type": "code",
   "execution_count": 8,
   "id": "1e2f33a6-0861-450d-8829-13a352010600",
   "metadata": {
    "tags": []
   },
   "outputs": [
    {
     "name": "stdout",
     "output_type": "stream",
     "text": [
      "skR_OnReplyMessage SKReplyLib_OnReplyMessage:Announcement callback.\n",
      "Login SK_SUCCESS\n",
      "SKOrderLib 初始化 SK_SUCCESS\n",
      "取得帳號 SK_SUCCESS\n"
     ]
    }
   ],
   "source": [
    "# login\n",
    "nCode=skC.SKCenterLib_Login(ID,PW)\n",
    "print('Login', skC.SKCenterLib_GetReturnCodeMessage(nCode))\n",
    "\n",
    "# SKOrderLib 初始化\n",
    "ncode = skO.SKOrderLib_Initialize()\n",
    "print('SKOrderLib 初始化', skC.SKCenterLib_GetReturnCodeMessage(nCode))\n",
    "\n",
    "# 取得帳號\n",
    "ncode = skO.GetUserAccount()\n",
    "print('取得帳號', skC.SKCenterLib_GetReturnCodeMessage(nCode))"
   ]
  },
  {
   "cell_type": "markdown",
   "id": "099a7328-a695-456c-9b1a-6cc73b0c69a9",
   "metadata": {
    "tags": []
   },
   "source": [
    "### 取得期貨權益\n",
    "___________________________________________\n",
    "Long GetFutureRights([in] BSTR bstrLogInID, [in] BSTR bstrAccount,[in]SHORT sCoinType) \n",
    "bstrLogInID\t登入ID。  \n",
    "bstrAccount\t委託帳號 ( IB＋帳號) 。  \n",
    "sCoinType\t0:全幣別，1:基幣(台幣TWD)，2:人民幣RMB。  "
   ]
  },
  {
   "cell_type": "code",
   "execution_count": 9,
   "id": "00380c30-492a-40b4-a9b7-cb24c1fd356c",
   "metadata": {
    "tags": []
   },
   "outputs": [
    {
     "name": "stdout",
     "output_type": "stream",
     "text": [
      "取得期貨權益 SK_SUCCESS\n"
     ]
    }
   ],
   "source": [
    "ncode = skO.GetFutureRights(ID, EventO.accTF, 1)\n",
    "print('取得期貨權益', skC.SKCenterLib_GetReturnCodeMessage(nCode))"
   ]
  },
  {
   "cell_type": "code",
   "execution_count": 10,
   "id": "e88752aa-3ef3-457e-9611-f35c698fe149",
   "metadata": {
    "tags": []
   },
   "outputs": [],
   "source": [
    "# OnFutureRight 回傳欄位\n",
    "futurRight_columns = [\n",
    "    '帳戶餘額', '浮動損益', '已實現費用','交易稅','預扣權利金','權利金收付',\n",
    "    '權益數','超額保證金','存提款','買方市值','賣方市值','期貨平倉損益',\n",
    "    '盤中未實現','原始保證金','維持保證金','部位原始保證金','部位維持保證金',\n",
    "    '委託保證金','超額最佳保證金','權利總值','預扣費用','原始保證金2',\n",
    "    '昨日餘額','選擇權組合單加不加收保證金','維持率','幣別','足額原始保證金',\n",
    "    '足額維持保證金', '足額可用','抵繳金額','有價可用','可用餘額',\n",
    "    '足額現金可用','有價價值','風險指標','選擇權到期差異','選擇權到期差損',\n",
    "    '期貨到期損益','加收保證金','LOGIN_ID','ACCOUNT_NO']"
   ]
  },
  {
   "cell_type": "markdown",
   "id": "d612ee9c-906f-4fb0-a384-9bb86276d0c1",
   "metadata": {},
   "source": [
    "### 存入 dataframe 再轉存 excel 格式"
   ]
  },
  {
   "cell_type": "code",
   "execution_count": 13,
   "id": "0ebc2c37-7e1d-4626-9044-1e32fb2309b1",
   "metadata": {
    "tags": []
   },
   "outputs": [],
   "source": [
    "# 存入 pandas dataframe\n",
    "df = pd.DataFrame([EventO.future_right[0].split(',')], columns=futurRight_columns)\n",
    "\n",
    "# 存成 excel \n",
    "df.to_excel('futureRight.xlsx')"
   ]
  }
 ],
 "metadata": {
  "kernelspec": {
   "display_name": "Python 3 (ipykernel)",
   "language": "python",
   "name": "python3"
  },
  "language_info": {
   "codemirror_mode": {
    "name": "ipython",
    "version": 3
   },
   "file_extension": ".py",
   "mimetype": "text/x-python",
   "name": "python",
   "nbconvert_exporter": "python",
   "pygments_lexer": "ipython3",
   "version": "3.11.3"
  }
 },
 "nbformat": 4,
 "nbformat_minor": 5
}
