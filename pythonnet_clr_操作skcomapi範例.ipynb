{
 "cells": [
  {
   "cell_type": "markdown",
   "id": "a6a01379-d22c-4065-975d-91268e09a4a0",
   "metadata": {},
   "source": [
    "# 使用 pythonnet 的 clr 模組操作 群益 SKCOMAPI"
   ]
  },
  {
   "cell_type": "markdown",
   "id": "e70c693c-6df3-47c9-9c49-3eda2bbc36ea",
   "metadata": {},
   "source": [
    "## 前置工作\n",
    "### 1. 轉換 SKCOM.dll 成 type library\n",
    "### 2. 安裝 pythonnet"
   ]
  },
  {
   "cell_type": "markdown",
   "id": "b95c8228-3d55-46c0-8a28-b75301899058",
   "metadata": {},
   "source": [
    "### 1.用 tlbimp.exe 將 SKCOM.dll 轉成  Type library\n",
    "    我是安裝 visual studio 2022，利用它附帶的 comandline prompt terminal ，下指令 tlbimp.exe 將 SKCOM.dll 轉成 typelib 形式，最終產生 SKCOMLib.dll 的檔案。之後就可以輕鬆用 pythonnet 的 clr 模組取用。"
   ]
  },
  {
   "cell_type": "markdown",
   "id": "3d7b1823-1931-47e0-a27c-4267b9cf5372",
   "metadata": {},
   "source": [
    "![圖](vs_2022_convert_dll_to_tlb.png)"
   ]
  },
  {
   "cell_type": "markdown",
   "id": "0a1a34c2-948f-4881-908b-10a2cb2ad999",
   "metadata": {},
   "source": [
    "### 2. 安裝 pythonnet\n",
    "    Python.NET 模組可以讓 python 使用者無縫整合 .NET Common Language Runtime (CLR)。它讓 Python 可以跟 CLR 互動, 甚至也可以反過來將 Python 包進 .NET 裡.\n",
    "    在你的 python 環境下用 pip 安裝 pythonnet 即可。詳細操作請看 pythonnet 官網"
   ]
  },
  {
   "cell_type": "code",
   "execution_count": 23,
   "id": "cdc40361-b668-4bc4-a3c2-0f69c455a349",
   "metadata": {},
   "outputs": [
    {
     "name": "stdout",
     "output_type": "stream",
     "text": [
      "Requirement already satisfied: pythonnet in d:\\python\\wpy64-31050\\python-3.10.5.amd64\\lib\\site-packages (3.0.0rc1)\n",
      "Requirement already satisfied: clr-loader>=0.1.7 in d:\\python\\wpy64-31050\\python-3.10.5.amd64\\lib\\site-packages (from pythonnet) (0.1.7)\n",
      "Requirement already satisfied: cffi>=1.13 in d:\\python\\wpy64-31050\\python-3.10.5.amd64\\lib\\site-packages (from clr-loader>=0.1.7->pythonnet) (1.15.0)\n",
      "Requirement already satisfied: pycparser in d:\\python\\wpy64-31050\\python-3.10.5.amd64\\lib\\site-packages (from cffi>=1.13->clr-loader>=0.1.7->pythonnet) (2.21)\n",
      "更新後的OnTimer 104957\n",
      "更新後的OnTimer 105057\n",
      "更新後的OnTimer 105157\n",
      "更新後的OnTimer 105257\n",
      "更新後的OnTimer 105357\n",
      "更新後的OnTimer 105457\n",
      "更新後的OnTimer 105557\n",
      "更新後的OnTimer 105657\n",
      "更新後的OnTimer 105757\n",
      "更新後的OnTimer 105857\n",
      "更新後的OnTimer 105957\n"
     ]
    }
   ],
   "source": [
    "!pip install pythonnet"
   ]
  },
  {
   "cell_type": "markdown",
   "id": "20c73ea2-4938-46eb-975e-c4ae2d157710",
   "metadata": {},
   "source": [
    "# clr 模組操作 群益 SKCOMAPI 操作範例"
   ]
  },
  {
   "cell_type": "code",
   "execution_count": null,
   "id": "282fcd1d-c57c-4f02-8039-64fd3ea4c82d",
   "metadata": {},
   "outputs": [],
   "source": [
    "import clr\n",
    "# AddReference，以下兩種可以擇一使用，都不用加副檔名 .dll\n",
    "#clr.AddReference(\"SKCOMLib\") # SKCOMLib.dll 與主程式同目錄\n",
    "clr.AddReference(r\"C:\\skcom\\CapitalAPI_2.13.41\\x64\\SKCOMLib\") #使用絕對路徑\n",
    "\n",
    "# 加入參考後，就可以用下列方式引用\n",
    "from SKCOMLib import SKCenterLib, SKReplyLib, SKQuoteLib, SKOrderLib, SKSTOCKLONG\n"
   ]
  },
  {
   "cell_type": "markdown",
   "id": "0dc9edae-d052-47a7-9ff9-5782c5298df9",
   "metadata": {},
   "source": [
    "## 建立Event loop\n",
    "\n",
    "#### 1. 使用 jupyterlab magic function\n",
    "#### 2. 使用 PumpWaiteMessage\n",
    "#### 3. 建立GUI介面，有內建的 eventloop (本範例未使用)"
   ]
  },
  {
   "cell_type": "markdown",
   "id": "efc0f0e9-290e-4638-b33e-d4ae2681d788",
   "metadata": {},
   "source": [
    "#### 方法1. 使用 jupyter magic function\n",
    "我使用的是 jupyterlab，使用下列方式即可產生自動 event loop，可以輕鬆即時互動式修改，很方便。大部分情況都可以這樣使用，若無反應，則使用方法2"
   ]
  },
  {
   "cell_type": "code",
   "execution_count": 2,
   "id": "8f045ebc-c807-49a9-88d3-ee2bb6bf6b40",
   "metadata": {},
   "outputs": [
    {
     "name": "stdout",
     "output_type": "stream",
     "text": [
      "Using matplotlib backend: TkAgg\n"
     ]
    }
   ],
   "source": [
    "%matplotlib auto"
   ]
  },
  {
   "cell_type": "markdown",
   "id": "7ed89df8-36c9-4fee-b2ca-c67b6e45f71e",
   "metadata": {},
   "source": [
    "#### 方法2. 使用 PumpWaiteMessage\n",
    "要使用 pythoncom 的 PumpWaiteMessage， 而 pythoncom 需要先安裝 pywin32。我這邊示範用 asyncio 來實作，好處也是可以即時互動修改，避免因為持續 pooling 而無法繼續。"
   ]
  },
  {
   "cell_type": "code",
   "execution_count": 3,
   "id": "9424baaa-3092-43e5-a267-2112303dc5c7",
   "metadata": {},
   "outputs": [
    {
     "name": "stdout",
     "output_type": "stream",
     "text": [
      "Requirement already satisfied: pywin32 in d:\\python\\wpy64-31050\\python-3.10.5.amd64\\lib\\site-packages (304.0)\n"
     ]
    }
   ],
   "source": [
    "# 如果沒有pywin32, 請先用 pip 安裝，下面是 jupyter magic func\n",
    "!pip install pywin32"
   ]
  },
  {
   "cell_type": "code",
   "execution_count": 4,
   "id": "267406e7-3f1b-4883-9235-63bdd06e8dc5",
   "metadata": {},
   "outputs": [
    {
     "name": "stdout",
     "output_type": "stream",
     "text": [
      "Pumping events!\n"
     ]
    }
   ],
   "source": [
    "import asyncio\n",
    "from pythoncom import PumpWaitingMessages\n",
    "\n",
    "# working functions, async coruntime to pump events\n",
    "async def pump_task():\n",
    "    while True:\n",
    "        PumpWaitingMessages()\n",
    "        await asyncio.sleep(0.01)\n",
    "\n",
    "# get an event loop \n",
    "loop = asyncio.get_event_loop()\n",
    "# 將 pump coruntime 加入列隊\n",
    "pumping_loop = loop.create_task(pump_task())\n",
    "print('Pumping events!')\n"
   ]
  },
  {
   "cell_type": "markdown",
   "id": "39afb9ec-7a8d-484a-b2f4-922a7c5d8135",
   "metadata": {},
   "source": [
    "## 建立 SKCOMAPI元件, event callback, 與綁定各自 event callback"
   ]
  },
  {
   "cell_type": "code",
   "execution_count": 5,
   "id": "42a7cdd4-e35e-4c0f-84b0-264cc8f1eb63",
   "metadata": {},
   "outputs": [],
   "source": [
    "# 建立 skcomapi 元件\n",
    "skC = SKCenterLib()\n",
    "skR = SKReplyLib()\n",
    "skQ = SKQuoteLib()\n",
    "skO = SKOrderLib()"
   ]
  },
  {
   "cell_type": "code",
   "execution_count": 6,
   "id": "d980eedc-db45-43af-98ea-fd6c6ae89bb2",
   "metadata": {},
   "outputs": [],
   "source": [
    "# database, 存取資料用，可以使用任容器/database來裝，這裡示範的是用python的 list\n",
    "tickdata = []\n",
    "quotedata = []"
   ]
  },
  {
   "cell_type": "markdown",
   "id": "1fa6c443-e9fa-40fc-a3e7-381a2257ef5f",
   "metadata": {},
   "source": [
    "## 建立 event callback, 根據 api 選用你想要使用的 event callback"
   ]
  },
  {
   "cell_type": "code",
   "execution_count": 7,
   "id": "54a91110-d1a2-4518-b7ff-20a4a609c50f",
   "metadata": {},
   "outputs": [],
   "source": [
    "# skC 相關\n",
    "def OnTimer(nTime):\n",
    "    \"\"\"只要Login後就會每分鐘持續回傳伺服器時間，可以藉此觀察 event loop 是否有成功\"\"\"\n",
    "    print(\"伺服器時間\", nTime)\n",
    "\n",
    "\n",
    "# skR 相關\n",
    "def OnReplyMessage(bstrUserID , bstrMessage, sConfirmCode):\n",
    "    \"\"\" 這個一定要建立，Login 時會檢查 sConfirmCode 是否 == -1\"\"\"\n",
    "    sConfirmCode = -1\n",
    "    print(\"OnReplyMessage\", bstrMessage)\n",
    "    return sConfirmCode\n",
    "\n",
    "\n",
    "def OnConnect(bstrUserID, nErrorCode  ):\n",
    "    \"\"\"回報群益的回報伺服器連線狀況\"\"\"\n",
    "    print('SKR_OnConnect', bstrUserID, nErrorCode)\n",
    "\n",
    "\n",
    "# skQ 相關\n",
    "def OnConnection(nKind, nCode):\n",
    "    \"\"\"回報連線報價伺服器狀態\n",
    "    nKind: 3001 連線報價伺服器\n",
    "           3002 離線報價伺服器\n",
    "           3003 連線成功，收到3003後，始可登錄報價商品\n",
    "    \"\"\"\n",
    "    print('skQ_OnConnection', nKind, nCode)\n",
    "\n",
    "\n",
    "def OnNotifyQuoteLONG(sMarketNo, nIndex):\n",
    "    ts = SKSTOCKLONG()\n",
    "    ncode, ts = skQ.SKQuoteLib_GetStockByIndexLONG(sMarketNo=sMarketNo, nStockIdx= nIndex, pSKStockLONG=ts)\n",
    "    quotedata.append([ts.bstrStockName, ts.nClose/ 10**ts.sDecimal, ts.nTickQty, ts.nTQty, ts.nYQty])\n",
    "    print(quotedata[-1])\n",
    "\n",
    "\n",
    "def OnNotifyTicksLONG(sMarketNo, nIndex, nPtr, nDate, nTimehms, nTimemillismicros, nBid, nAsk, nClose, nQty, nSimulate):\n",
    "    ts = SKSTOCKLONG()\n",
    "    ncode, ts = skQ.SKQuoteLib_GetStockByIndexLONG(sMarketNo, nIndex, ts)\n",
    "    tickdata.append([ts.bstrStockName, nTimehms, nBid/10**ts.sDecimal, nAsk/10**ts.sDecimal, nClose/10**ts.sDecimal, nQty])\n",
    "    print(f\"{ts.bstrStockName} time: {nTimehms} bid= {nBid/10**ts.sDecimal}, ask= {nAsk/10**ts.sDecimal}, close= {nClose/10**ts.sDecimal}, qty= {nQty}\")\n",
    "\n",
    "\n",
    "def OnNotifyKLineData(bstrStockNo, bstrData):\n",
    "    print(bstrStockNo, bstrData)"
   ]
  },
  {
   "cell_type": "markdown",
   "id": "e1bb454f-ba56-4b86-b1aa-43d1f6819fc9",
   "metadata": {},
   "source": [
    "## 使用 += (綁定) 或 -= (解除綁定) 各個 event callback"
   ]
  },
  {
   "cell_type": "code",
   "execution_count": 8,
   "id": "19078c3d-535b-41fd-b805-10808000e991",
   "metadata": {},
   "outputs": [],
   "source": [
    "# 綁定 event callback\n",
    "# skC相關 event\n",
    "skC.OnTimer += OnTimer\n",
    "\n",
    "# skR相關 event\n",
    "skR.OnConnect += OnConnect\n",
    "skR.OnReplyMessage += OnReplyMessage\n",
    "\n",
    "# skQ相關 event\n",
    "skQ.OnConnection += OnConnection\n",
    "skQ.OnNotifyQuoteLONG += OnNotifyQuoteLONG\n",
    "skQ.OnNotifyTicksLONG += OnNotifyTicksLONG\n",
    "skQ.OnNotifyKLineData += OnNotifyKLineData"
   ]
  },
  {
   "cell_type": "code",
   "execution_count": 9,
   "id": "d836add5-65b6-4b95-9703-575c419b8522",
   "metadata": {},
   "outputs": [],
   "source": [
    "# 解除 callback 綁定\n",
    "# 注意如果想在 jupyter 裡邊運行邊調整 callback \n",
    "# 請先解除綁定 callback，然後再重新綁定\n",
    "skC.OnTimer -= OnTimer\n",
    "\n",
    "# 更新 OnTimer callback\n",
    "def OnTimer(nTime):\n",
    "    print(\"更新後的OnTimer\", nTime)\n",
    "\n",
    "# 重新綁定 Event callback\n",
    "skC.OnTimer += OnTimer\n"
   ]
  },
  {
   "cell_type": "markdown",
   "id": "9620fa73-7aba-4e76-ab10-d65f405c1661",
   "metadata": {},
   "source": [
    "# Login"
   ]
  },
  {
   "cell_type": "code",
   "execution_count": 10,
   "id": "c8bfe848-9317-458a-8e61-afbdcd094360",
   "metadata": {},
   "outputs": [
    {
     "name": "stdout",
     "output_type": "stream",
     "text": [
      "OnReplyMessage SKReplyLib_OnReplyMessage:Announcement callback.\n",
      "Login SK_SUCCESS\n"
     ]
    }
   ],
   "source": [
    "ID = \"\"\n",
    "PW = \"\"\n",
    "ncode = skC.SKCenterLib_Login(ID,PW)\n",
    "print(\"Login\", skC.SKCenterLib_GetReturnCodeMessage(ncode))"
   ]
  },
  {
   "cell_type": "markdown",
   "id": "3de8360b-e882-4374-910c-9e3d34e67d47",
   "metadata": {},
   "source": [
    "# 連線報價伺服器"
   ]
  },
  {
   "cell_type": "code",
   "execution_count": 15,
   "id": "926cfae0-24a6-4b1a-bb45-f52dbcf9578f",
   "metadata": {},
   "outputs": [
    {
     "name": "stdout",
     "output_type": "stream",
     "text": [
      "EnterMonitor SK_SUCCESS\n",
      "skQ_OnConnection 3001 0\n",
      "skQ_OnConnection 3003 0\n"
     ]
    }
   ],
   "source": [
    "# Enter Monitor\n",
    "#ncode = skQ.SKQuoteLib_LeaveMonitor()\n",
    "ncode = skQ.SKQuoteLib_EnterMonitorLONG()\n",
    "print(\"EnterMonitor\", skC.SKCenterLib_GetReturnCodeMessage(ncode))"
   ]
  },
  {
   "cell_type": "markdown",
   "id": "64432320-fa28-4916-895c-160dd75475f0",
   "metadata": {},
   "source": [
    "# 報價\n",
    "## 等到 OnConnection 出現 3003，才可以 requestStock/Ticks"
   ]
  },
  {
   "cell_type": "code",
   "execution_count": 12,
   "id": "c87881d5-7eb2-4c60-8e39-6e391e8a44fa",
   "metadata": {},
   "outputs": [
    {
     "name": "stdout",
     "output_type": "stream",
     "text": [
      "RequestStocks= 1101  1\n",
      "['台泥', 0.0, 0, 0, 14481]\n",
      "['台泥', 37.55, 5, 11103, 14481]\n"
     ]
    }
   ],
   "source": [
    "strStock = \"1101\"\n",
    "page, ncode = skQ.SKQuoteLib_RequestStocks(1, strStock) # 會返回 page跟 ncode會返回 page跟 ncode\n",
    "print(f\"RequestStocks= {strStock} \", skC.SKCenterLib_GetReturnCodeMessage(ncode))"
   ]
  },
  {
   "cell_type": "code",
   "execution_count": 16,
   "id": "263fb9b2-8efc-49a1-b796-cd1fc0c40875",
   "metadata": {},
   "outputs": [
    {
     "name": "stdout",
     "output_type": "stream",
     "text": [
      "RequestStocks= MTX00  SK_SUCCESS\n",
      "小台近 time: 102835 bid= 15675.0, ask= 15676.0, close= 15675.0, qty= 1\n",
      "小台近 time: 102836 bid= 15675.0, ask= 15676.0, close= 15675.0, qty= 23\n",
      "小台近 time: 102836 bid= 15675.0, ask= 15676.0, close= 15674.0, qty= 2\n",
      "小台近 time: 102836 bid= 15675.0, ask= 15676.0, close= 15674.0, qty= 1\n",
      "小台近 time: 102836 bid= 15675.0, ask= 15676.0, close= 15674.0, qty= 1\n",
      "小台近 time: 102836 bid= 15675.0, ask= 15676.0, close= 15675.0, qty= 1\n",
      "小台近 time: 102836 bid= 15675.0, ask= 15676.0, close= 15674.0, qty= 1\n",
      "小台近 time: 102838 bid= 15674.0, ask= 15675.0, close= 15675.0, qty= 1\n",
      "小台近 time: 102838 bid= 15674.0, ask= 15675.0, close= 15674.0, qty= 1\n",
      "小台近 time: 102838 bid= 15674.0, ask= 15675.0, close= 15674.0, qty= 1\n",
      "小台近 time: 102838 bid= 15674.0, ask= 15675.0, close= 15675.0, qty= 1\n",
      "小台近 time: 102838 bid= 15674.0, ask= 15675.0, close= 15675.0, qty= 1\n",
      "小台近 time: 102839 bid= 15674.0, ask= 15675.0, close= 15675.0, qty= 1\n",
      "小台近 time: 102839 bid= 15674.0, ask= 15675.0, close= 15674.0, qty= 3\n",
      "小台近 time: 102839 bid= 15674.0, ask= 15675.0, close= 15674.0, qty= 1\n",
      "小台近 time: 102840 bid= 15674.0, ask= 15675.0, close= 15674.0, qty= 1\n",
      "小台近 time: 102840 bid= 15674.0, ask= 15675.0, close= 15675.0, qty= 1\n",
      "小台近 time: 102840 bid= 15674.0, ask= 15675.0, close= 15674.0, qty= 1\n",
      "小台近 time: 102841 bid= 15674.0, ask= 15675.0, close= 15674.0, qty= 2\n",
      "小台近 time: 102841 bid= 15674.0, ask= 15675.0, close= 15673.0, qty= 3\n",
      "小台近 time: 102842 bid= 15673.0, ask= 15674.0, close= 15673.0, qty= 4\n",
      "小台近 time: 102843 bid= 15673.0, ask= 15674.0, close= 15674.0, qty= 1\n",
      "小台近 time: 102843 bid= 15674.0, ask= 15675.0, close= 15673.0, qty= 1\n",
      "小台近 time: 102843 bid= 15673.0, ask= 15674.0, close= 15674.0, qty= 1\n",
      "小台近 time: 102845 bid= 15673.0, ask= 15674.0, close= 15673.0, qty= 2\n",
      "小台近 time: 102846 bid= 15673.0, ask= 15674.0, close= 15673.0, qty= 1\n",
      "小台近 time: 102846 bid= 15673.0, ask= 15674.0, close= 15673.0, qty= 21\n",
      "小台近 time: 102847 bid= 15672.0, ask= 15673.0, close= 15673.0, qty= 1\n"
     ]
    }
   ],
   "source": [
    "strStock = \"MTX00\"\n",
    "ncode, page = skQ.SKQuoteLib_RequestTicks(1, strStock) # 會返回 page跟 ncode會返回 page跟 ncode\n",
    "print(f\"RequestStocks= {strStock} \", skC.SKCenterLib_GetReturnCodeMessage(ncode))"
   ]
  },
  {
   "cell_type": "code",
   "execution_count": 17,
   "id": "e83916d3-55bb-4e29-b21a-feae8cec4539",
   "metadata": {},
   "outputs": [
    {
     "name": "stdout",
     "output_type": "stream",
     "text": [
      "小台近 time: 102847 bid= 15672.0, ask= 15673.0, close= 15673.0, qty= 1\n"
     ]
    },
    {
     "data": {
      "text/plain": [
       "0"
      ]
     },
     "execution_count": 17,
     "metadata": {},
     "output_type": "execute_result"
    },
    {
     "name": "stdout",
     "output_type": "stream",
     "text": [
      "skQ_OnConnection 3002 0\n"
     ]
    }
   ],
   "source": [
    "# 離開報價伺服器\n",
    "skQ.SKQuoteLib_LeaveMonitor()"
   ]
  },
  {
   "cell_type": "code",
   "execution_count": 19,
   "id": "93eac24d-2240-4167-b5b0-cae212e3cab3",
   "metadata": {},
   "outputs": [
    {
     "data": {
      "text/plain": [
       "[['台泥', 0.0, 0, 0, 14481],\n",
       " ['台泥', 37.55, 5, 11103, 14481],\n",
       " ['台泥', 37.55, 5, 11103, 14481]]"
      ]
     },
     "execution_count": 19,
     "metadata": {},
     "output_type": "execute_result"
    },
    {
     "name": "stdout",
     "output_type": "stream",
     "text": [
      "更新後的OnTimer 102857\n"
     ]
    }
   ],
   "source": [
    "# 存取 quotedata\n",
    "quotedata"
   ]
  },
  {
   "cell_type": "code",
   "execution_count": 20,
   "id": "803f309a-a524-4288-a0db-3662ae7d1e59",
   "metadata": {},
   "outputs": [
    {
     "data": {
      "text/plain": [
       "[['小台近', 102835, 15675.0, 15676.0, 15675.0, 1],\n",
       " ['小台近', 102836, 15675.0, 15676.0, 15675.0, 23],\n",
       " ['小台近', 102836, 15675.0, 15676.0, 15674.0, 2],\n",
       " ['小台近', 102836, 15675.0, 15676.0, 15674.0, 1],\n",
       " ['小台近', 102836, 15675.0, 15676.0, 15674.0, 1]]"
      ]
     },
     "execution_count": 20,
     "metadata": {},
     "output_type": "execute_result"
    },
    {
     "name": "stdout",
     "output_type": "stream",
     "text": [
      "更新後的OnTimer 102957\n",
      "更新後的OnTimer 103057\n",
      "更新後的OnTimer 103157\n",
      "更新後的OnTimer 103257\n",
      "更新後的OnTimer 103357\n",
      "更新後的OnTimer 103457\n",
      "更新後的OnTimer 103557\n"
     ]
    }
   ],
   "source": [
    "# 存取 tickdata\n",
    "tickdata[0:5]"
   ]
  },
  {
   "cell_type": "code",
   "execution_count": null,
   "id": "6c3e5a3f-6057-497a-8d2e-6ca1f93183c1",
   "metadata": {},
   "outputs": [],
   "source": []
  }
 ],
 "metadata": {
  "kernelspec": {
   "display_name": "Python 3 (ipykernel)",
   "language": "python",
   "name": "python3"
  },
  "language_info": {
   "codemirror_mode": {
    "name": "ipython",
    "version": 3
   },
   "file_extension": ".py",
   "mimetype": "text/x-python",
   "name": "python",
   "nbconvert_exporter": "python",
   "pygments_lexer": "ipython3",
   "version": "3.10.5"
  }
 },
 "nbformat": 4,
 "nbformat_minor": 5
}
