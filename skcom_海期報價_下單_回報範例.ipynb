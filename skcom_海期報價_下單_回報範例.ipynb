{
 "cells": [
  {
   "cell_type": "markdown",
   "id": "effective-experience",
   "metadata": {},
   "source": [
    "# 海期報價及下單範例"
   ]
  },
  {
   "cell_type": "code",
   "execution_count": 1,
   "id": "polar-ivory",
   "metadata": {},
   "outputs": [],
   "source": [
    "import pythoncom\n",
    "import asyncio\n",
    "import datetime\n",
    "import pandas as pd\n",
    "import comtypes.client as cc\n",
    "# 只有第一次使用 api ，或是更新 api 版本時，才需要呼叫 GetModule\n",
    "# 會將 SKCOM api 包裝成 python 可用的 package ，並存放在 comtypes.gen 資料夾下\n",
    "# 更新 api 版本時，記得將 comtypes.gen 資料夾 SKCOMLib 相關檔案刪除，再重新呼叫 GetModule \n",
    "cc.GetModule('C:\\\\skcom\\\\CapitalAPI_2.13.37\\\\x64\\\\SKCOM.dll')\n",
    "import comtypes.gen.SKCOMLib as sk"
   ]
  },
  {
   "cell_type": "code",
   "execution_count": 2,
   "id": "expressed-december",
   "metadata": {},
   "outputs": [
    {
     "name": "stdout",
     "output_type": "stream",
     "text": [
      "2022/05/09 14:37:17, Set ID and PW\n"
     ]
    }
   ],
   "source": [
    "# login ID and PW\n",
    "# 身份證\n",
    "ID = 'A123456789'\n",
    "# 密碼\n",
    "PW = 'ThisIsUrPW'\n",
    "\n",
    "print(datetime.datetime.now().strftime(\"%Y/%m/%d %H:%M:%S,\"), 'Set ID and PW')"
   ]
  },
  {
   "cell_type": "markdown",
   "id": "universal-opposition",
   "metadata": {},
   "source": [
    "# 建立 event pump and event loop\n",
    "新版的jupyterlab event pump 機制好像有改變，因此自行打造一個 event pump機制，目前在 jupyterlab 環境下使用，也有在 spyder IDE 下測試過，都可以正常運行"
   ]
  },
  {
   "cell_type": "code",
   "execution_count": 3,
   "id": "central-arctic",
   "metadata": {},
   "outputs": [
    {
     "name": "stdout",
     "output_type": "stream",
     "text": [
      "2022/05/09 14:37:45, Event pumping is ready!\n"
     ]
    }
   ],
   "source": [
    "# working functions, async coruntime to pump events\n",
    "async def pump_task():\n",
    "    '''在背景裡定時 pump windows messages'''\n",
    "    while True:\n",
    "        pythoncom.PumpWaitingMessages()\n",
    "        # 想要反應更快 可以將 0.1 取更小值\n",
    "        await asyncio.sleep(0.1)\n",
    "\n",
    "# get an event loop\n",
    "loop = asyncio.get_event_loop()\n",
    "pumping_loop = loop.create_task(pump_task())\n",
    "print(datetime.datetime.now().strftime(\"%Y/%m/%d %H:%M:%S,\"), \"Event pumping is ready!\")"
   ]
  },
  {
   "cell_type": "markdown",
   "id": "illegal-entrance",
   "metadata": {},
   "source": [
    "# 建立 event handler"
   ]
  },
  {
   "cell_type": "code",
   "execution_count": 4,
   "id": "broken-balance",
   "metadata": {},
   "outputs": [],
   "source": [
    "# 建立物件，避免重複 createObject\n",
    "# 登錄物件\n",
    "if 'skC' not in globals(): skC = cc.CreateObject(sk.SKCenterLib, interface=sk.ISKCenterLib)\n",
    "# 下單物件\n",
    "if 'skO' not in globals(): skO = cc.CreateObject(sk.SKOrderLib , interface=sk.ISKOrderLib)\n",
    "# 海期報價物件\n",
    "if 'skOSQ' not in globals(): skOSQ = cc.CreateObject(sk.SKOSQuoteLib , interface=sk.ISKOSQuoteLib)\n",
    "# 回報物件\n",
    "if 'skR' not in globals(): skR = cc.CreateObject(sk.SKReplyLib, interface=sk.ISKReplyLib)\n",
    "\n",
    "\n",
    "# 建立事件處理類別\n",
    "# SKOSQ event handler\n",
    "class skOSQ_events:\n",
    "    def __init__(self):\n",
    "        self.OverseaProductsDetail = []\n",
    "\n",
    "    def OnConnect(self, nKind, nCode):\n",
    "        '''連線海期主機狀況回報'''\n",
    "        print(f'skOSQ_OnConnect nCode={nCode}, nKind={nKind}')\n",
    "\n",
    "    def OnOverseaProductsDetail(self, bstrValue):\n",
    "        '''查詢海期/報價下單商品代號'''\n",
    "        if \"##\" not in self.OverseaProductsDetail:\n",
    "            self.OverseaProductsDetail.append(bstrValue.split(','))\n",
    "        else:\n",
    "            print(\"skOSQ_OverseaProductsDetail downloading is completed.\")\n",
    "\n",
    "    def OnNotifyQuoteLONG(self, sIndex):\n",
    "        '''requestStock 報價回報'''\n",
    "        # 儘量避免在這裡使用繁複的運算，這裡僅在 console 端印出報價\n",
    "        ts = sk.SKFOREIGNLONG()\n",
    "        nCode = skOSQ.SKOSQuoteLib_GetStockByIndexLONG(sIndex, ts)\n",
    "        print(ts.bstrExchangeNo, ts.bstrStockNo, ts.nClose, ts.nTickQty)\n",
    "\n",
    "# SKReplyLib event handler\n",
    "class skR_events:\n",
    "    def OnReplyMessage(self, bstrUserID, bstrMessage):\n",
    "        '''API 2.13.17 以上一定要返回 sConfirmCode=-1'''\n",
    "        sConfirmCode = -1\n",
    "        print('skR_OnReplyMessage ok')\n",
    "        return sConfirmCode\n",
    "\n",
    "    def OnNewData(self, bstrUserID, bstrData):\n",
    "        '''委託單回報'''\n",
    "        print(\"skR_OnNewData\", bstrData)\n",
    "\n",
    "\n",
    "# SKOrderLib event handler\n",
    "class skO_events:\n",
    "    def __init__(self):\n",
    "        self.TFAcc = []\n",
    "\n",
    "    def OnAccount(self, bstrLogInID, bstrAccountData):\n",
    "        strI = bstrAccountData.split(',')\n",
    "        # 找出期貨帳號\n",
    "        if len(strI) > 3 :\n",
    "            if strI[0] == 'TF' :\n",
    "                # 分公司代碼 + 期貨帳號\n",
    "                self.TFAcc = strI[1] + strI[3]\n"
   ]
  },
  {
   "cell_type": "markdown",
   "id": "nearby-greeting",
   "metadata": {},
   "source": [
    "# 建立 event 跟 event handler 的連結"
   ]
  },
  {
   "cell_type": "code",
   "execution_count": 5,
   "id": "documentary-border",
   "metadata": {},
   "outputs": [],
   "source": [
    "\n",
    "# Event sink, 事件實體化\n",
    "EventOSQ = skOSQ_events()\n",
    "EventR = skR_events()\n",
    "EventO = skO_events()\n",
    "\n",
    "# 建立 event 跟 event handler 的連結\n",
    "ConnOSQ = cc.GetEvents(skOSQ, EventOSQ) \n",
    "ConnR = cc.GetEvents(skR, EventR) \n",
    "ConnO = cc.GetEvents(skO, EventO) \n"
   ]
  },
  {
   "cell_type": "markdown",
   "id": "greatest-sleeve",
   "metadata": {},
   "source": [
    "# 登入及各項初始化作業"
   ]
  },
  {
   "cell_type": "code",
   "execution_count": 6,
   "id": "forward-powder",
   "metadata": {},
   "outputs": [
    {
     "name": "stdout",
     "output_type": "stream",
     "text": [
      "skR_OnReplyMessage ok\n",
      "Login SK_SUCCESS\n",
      "SKOSQuoteLib_Initialize SK_SUCCESS\n",
      "Order Initialize SK_SUCCESS\n",
      "ReadCertByID SK_SUCCESS\n",
      "GetUserAccount SK_SUCCESS Fxxxxxxxxxxxxx\n",
      "Connect to ReplyLib server SK_SUCCESS\n"
     ]
    }
   ],
   "source": [
    "# login\n",
    "print('Login', skC.SKCenterLib_GetReturnCodeMessage(skC.SKCenterLib_Login(ID,PW)))\n",
    "\n",
    "# 海期商品初始化\n",
    "nCode = skOSQ.SKOSQuoteLib_Initialize()\n",
    "print(\"SKOSQuoteLib_Initialize\", skC.SKCenterLib_GetReturnCodeMessage(nCode))\n",
    "\n",
    "# 下單前置至步驟\n",
    "# 1. 下單初始化\n",
    "nCode = skO.SKOrderLib_Initialize()\n",
    "print(\"Order Initialize\", skC.SKCenterLib_GetReturnCodeMessage(nCode))\n",
    "\n",
    "# 2. 讀取憑證\n",
    "nCode = skO.ReadCertByID(ID)\n",
    "print(\"ReadCertByID\", skC.SKCenterLib_GetReturnCodeMessage(nCode))\n",
    "\n",
    "# 3. 取得海期帳號 \n",
    "nCode = skO.GetUserAccount()\n",
    "print(\"GetUserAccount\", skC.SKCenterLib_GetReturnCodeMessage(nCode), EventO.TFAcc)\n",
    "\n",
    "# 4. 連線委託回報主機\n",
    "nCode = skR.SKReplyLib_ConnectByID(ID)\n",
    "print(\"Connect to ReplyLib server\", skC.SKCenterLib_GetReturnCodeMessage(nCode))\n"
   ]
  },
  {
   "cell_type": "markdown",
   "id": "complete-clearing",
   "metadata": {},
   "source": [
    "# 登入海期報價主機，確認 OnConnect 出現 3001 回報後始可進行下列步驟\n",
    "以下皆以手動輸入"
   ]
  },
  {
   "cell_type": "code",
   "execution_count": 11,
   "id": "biblical-sport",
   "metadata": {},
   "outputs": [
    {
     "name": "stdout",
     "output_type": "stream",
     "text": [
      "SKOSQuoteLib_EnterMonitor() SK_SUCCESS\n",
      "skOSQ_OnConnect nCode=0, nKind=3001\n"
     ]
    }
   ],
   "source": [
    "# 5. 登入海期報價主機\n",
    "nCode = skOSQ.SKOSQuoteLib_EnterMonitorLONG()\n",
    "print('SKOSQuoteLib_EnterMonitor()', skC.SKCenterLib_GetReturnCodeMessage(nCode))"
   ]
  },
  {
   "cell_type": "markdown",
   "id": "republican-saskatchewan",
   "metadata": {},
   "source": [
    "# 下單前需要下載海期商品，才能下單\n",
    "不然會報 1035 錯誤碼"
   ]
  },
  {
   "cell_type": "code",
   "execution_count": 8,
   "id": "sustainable-realtor",
   "metadata": {},
   "outputs": [
    {
     "name": "stdout",
     "output_type": "stream",
     "text": [
      "SKOrderLib_LoadOSCommodity SK_SUCCESS\n"
     ]
    }
   ],
   "source": [
    "# 5. 登入海期報價主機後，等確認 OnConnect 出現 3001 後，再下載海期商品\n",
    "nCode = skO.SKOrderLib_LoadOSCommodity()\n",
    "print('SKOrderLib_LoadOSCommodity', skC.SKCenterLib_GetReturnCodeMessage(nCode))"
   ]
  },
  {
   "cell_type": "markdown",
   "id": "signal-liechtenstein",
   "metadata": {},
   "source": [
    "# 查詢海期交易所及商品報價與下單代碼"
   ]
  },
  {
   "cell_type": "code",
   "execution_count": 9,
   "id": "unlimited-roots",
   "metadata": {},
   "outputs": [
    {
     "name": "stdout",
     "output_type": "stream",
     "text": [
      "GetOverseaProductDetail SK_SUCCESS\n",
      "交易所代碼, 交易所名稱, 商品報價代碼, 商品名稱, 交易所下單代碼, 商品下單代碼, 最後交易日\n",
      "['CBOT', '芝加哥期貨交易所', 'MYM0000', '微小道熱', 'CBT', 'MYM_202206', '20220617']\n",
      "['TCE', '東京工業交易所', 'JCO2205', '東京原油2205', 'TCE', 'JCO_202205', '20220531']\n"
     ]
    }
   ],
   "source": [
    "# 等 OnConnect 出現 3001 回報後，可以查詢海期交易所及交易商品代號\n",
    "# 查詢詳細交易所及商品代號，注意海期下單與報價代號有些不同\n",
    "EventOSQ.OverseaProductsDetail = []\n",
    "nCode = skOSQ.SKOSQuoteLib_GetOverseaProductDetail(1)\n",
    "print(\"GetOverseaProductDetail\", skC.SKCenterLib_GetReturnCodeMessage(nCode))\n",
    "print(\"交易所代碼, 交易所名稱, 商品報價代碼, 商品名稱, 交易所下單代碼, 商品下單代碼, 最後交易日\")\n",
    "print(EventOSQ.OverseaProductsDetail[5])\n",
    "print(EventOSQ.OverseaProductsDetail[-2])\n",
    "# 下單代碼"
   ]
  },
  {
   "cell_type": "code",
   "execution_count": 13,
   "id": "exterior-voluntary",
   "metadata": {},
   "outputs": [
    {
     "name": "stdout",
     "output_type": "stream",
     "text": [
      "0 SK_SUCCESS\n",
      "skOSQ_OnConnect nCode=0, nKind=3002\n"
     ]
    }
   ],
   "source": [
    "# 離開海期報價主機，有需要再使用\n",
    "# nCode = skOSQ.SKOSQuoteLib_LeaveMonitor()\n",
    "# print(nCode, skC.SKCenterLib_GetReturnCodeMessage(nCode))"
   ]
  },
  {
   "cell_type": "markdown",
   "id": "binding-belief",
   "metadata": {},
   "source": [
    "# 海期報價範例"
   ]
  },
  {
   "cell_type": "code",
   "execution_count": 12,
   "id": "immediate-nebraska",
   "metadata": {},
   "outputs": [
    {
     "data": {
      "text/plain": [
       "[1, 0]"
      ]
     },
     "execution_count": 12,
     "metadata": {},
     "output_type": "execute_result"
    },
    {
     "name": "stdout",
     "output_type": "stream",
     "text": [
      "CBOT MYM0000 32554 1\n",
      "TCE JCO2205 0 0\n",
      "CBOT MYM0000 32554 1\n",
      "TCE JCO2205 88930 1\n",
      "CBOT MYM0000 32554 1\n",
      "CBOT MYM0000 32554 1\n",
      "CBOT MYM0000 32554 1\n",
      "CBOT MYM0000 32554 1\n",
      "CBOT MYM0000 32554 1\n"
     ]
    }
   ],
   "source": [
    "# 登陸海期商品報價, 格式為 \"交易所代碼,商品代碼\"，不同商品用#隔開，請利用\n",
    "# GetOverseaProductDetail 查詢\n",
    "# 登陸海期商品報，接收 callback  為 EventOSQ 的 OnNotifyQuoteLONG\n",
    "# 注意熱門商品報價頻率會很高，要手動清除，不然 jupterlab 頁面會愈來愈慢\n",
    "code = skOSQ.SKOSQuoteLib_RequestStocks(1, \"CBOT,MYM0000#TCE,JCO2205\")\n",
    "print(\"RequedtStocks\",skC.SKCenterLib_GetReturnCodeMessage(code[1]))"
   ]
  },
  {
   "cell_type": "markdown",
   "id": "banned-mainstream",
   "metadata": {},
   "source": [
    "# 海期下單物件 OVERSEAFUTUREORDER\n",
    "委託價分子，這是海期商品小數點的部位，可以參考 https://www.order-master.com/doc/topic/54/"
   ]
  },
  {
   "cell_type": "code",
   "execution_count": 15,
   "id": "purple-seller",
   "metadata": {},
   "outputs": [],
   "source": [
    "# 建立海期委託單物件\n",
    "# 詳細參數請參考 api 手冊，這裡僅示範可以下單所需的參數\n",
    "# 以下參數我是先用 api 附的 SKCOMtester.exe 測試，直到可以送單所測出來需要的參數\n",
    "# 注意 bstr開頭的參數都要以文字型態帶入，特別是 委託價 (bstrOrder),委託價分子(bstrOrderNumerator)\n",
    "# 根據 GetOverseaProductDetail 取得的下單代碼，\n",
    "# 如 芝加哥交易所的微型小道瓊期貨，交易所代碼是 CBT, 商品下單代碼是 MYM_202206，\n",
    "# 但 OVERSEAFUTUREORDER 物件的參數，要再另外拆成 海外期權代號(bstrStockNo) 及 近月商品年月(bstrYearMonth)\n",
    "# 要將 MYM_202206 拆成 MYM 及 202206\n",
    "\n",
    "fo = sk.OVERSEAFUTUREORDER()\n",
    "fo.bstrFullAccount = EventO.TFAcc\t\t# 海期帳號，分公司代碼＋帳號7碼\n",
    "fo.bstrExchangeNo = \"CBT\"\t        \t# 交易所代碼。\n",
    "fo.bstrStockNo = \"MYM\"\t \t\t\t    # 海外期權代號。\n",
    "fo.bstrYearMonth = \"202206\"\t\t\t\t# 近月商品年月( YYYYMM) 6碼\n",
    "# fo.bstrYearMonth2\t\t\t\t# 遠月商品年月( YYYYMM) 6碼 {價差下單使用}\n",
    "fo.bstrOrder = \"31500\"\t\t\t\t\t# 委託價。\n",
    "fo.bstrOrderNumerator = \"0\"\t\t\t\t# 委託價分子。也就是小數點的部位\n",
    "# fo.bstrTrigger\t\t\t\t# 觸發價。\n",
    "# fo.bstrTriggerNumerator\t\t\t\t# 觸發價分子。\n",
    "fo.sBuySell = 0\t\t\t\t\t# 0:買進 1:賣出\n",
    "                                        # {價差商品，需留意是否為特殊商品－近遠月前的「+、-」符號}\n",
    "fo.sNewClose = 0\t\t\t\t\t# 新/平倉，0:新倉  {目前海期僅新倉可選}\n",
    "fo.sDayTrade = 0\t\t\t\t\t# 當沖 0:否, 1:是；{海期價差單不提供當沖}\n",
    "                                        # 可當沖商品請參考交易所規定。\n",
    "fo.sTradeType = 0\t\t\t\t\t# 0:ROD 當日有效單; 1:FOK 立即全部成交否則取消; 2:IOC 立即成交否則取消(可部分成交)\n",
    "\t\t\t\t\t\t\t\t# {限價單LMT可選ROD/IOC/FOK，其餘單別固定ROD}\n",
    "fo.sSpecialTradeType = 0\t\t\t\t# 0:LMT 限價單 1:MKT  2:STL  3.STP\n",
    "fo.nQty = 1\t\t\t\t\t\t\t# 交易口數。\n",
    "\n"
   ]
  },
  {
   "cell_type": "code",
   "execution_count": 16,
   "id": "consistent-delta",
   "metadata": {},
   "outputs": [
    {
     "name": "stdout",
     "output_type": "stream",
     "text": [
      "1105094508335 SK_SUCCESS\n",
      "skR_OnNewData 1105094508335,OF,N,N,Fxxxxx,xxxxxxx,B2YR0,CBT,MYM,,x8593,31500.00000000,0.00000,0,0.00000000,0.00000,0,,,,0000000001,,,20220509,14:39:36,,0000000,0176,y,20220509,4110000030261,A,MYM,202206,,,0,,,,,,,3638333333323730383634303020202020202020,,N,\n",
      "skR_OnNewData 1105090700673,OF,C,N,Fxxxxxx,xxxxxxx,B2YR0,CBT,MYM,,x8593,31500.00000000,0.00000,0,0.00000000,0.00000,0,,,,0000000001,,,20220509,14:39:57,,0000000,0176,g,20220509,4110000030268,A,MYM,202206,,,0,,,,,,,3638333333323730383634303020202020202020,,N,\n"
     ]
    }
   ],
   "source": [
    "# 海期下單 SendOverSeaFutureOrder(bstrLogInID, bAsyncOrder, pOrder)\n",
    "msg, nCode = skO.SendOverSeaFutureOrder(ID, 0, fo)\n",
    "print(msg, skC.SKCenterLib_GetReturnCodeMessage(nCode))"
   ]
  },
  {
   "cell_type": "code",
   "execution_count": null,
   "id": "dated-broad",
   "metadata": {},
   "outputs": [],
   "source": []
  }
 ],
 "metadata": {
  "kernelspec": {
   "display_name": "Python 3",
   "language": "python",
   "name": "python3"
  },
  "language_info": {
   "codemirror_mode": {
    "name": "ipython",
    "version": 3
   },
   "file_extension": ".py",
   "mimetype": "text/x-python",
   "name": "python",
   "nbconvert_exporter": "python",
   "pygments_lexer": "ipython3",
   "version": "3.9.2"
  }
 },
 "nbformat": 4,
 "nbformat_minor": 5
}
